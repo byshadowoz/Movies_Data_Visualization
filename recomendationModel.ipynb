{
  "cells": [
    {
      "cell_type": "markdown",
      "metadata": {
        "colab_type": "text",
        "id": "view-in-github"
      },
      "source": [
        "<a href=\"https://colab.research.google.com/github/byshadowoz/Movies_Data_Visualization/blob/main/recomendationModel.ipynb\" target=\"_parent\"><img src=\"https://colab.research.google.com/assets/colab-badge.svg\" alt=\"Open In Colab\"/></a>"
      ]
    },
    {
      "cell_type": "code",
      "execution_count": 26,
      "metadata": {
        "id": "Pm_xE3t3VooV"
      },
      "outputs": [],
      "source": [
        "import pandas as pd\n",
        "import numpy as np"
      ]
    },
    {
      "cell_type": "code",
      "execution_count": 27,
      "metadata": {
        "id": "a2biIMc5V3qm"
      },
      "outputs": [],
      "source": [
        "data = pd.read_csv('CSVs/movie_dataset.csv')"
      ]
    },
    {
      "cell_type": "code",
      "execution_count": 28,
      "metadata": {
        "colab": {
          "base_uri": "https://localhost:8080/"
        },
        "id": "g5ZpYzc5iQVQ",
        "outputId": "4a124c2a-b035-4d33-97b2-47077bdb8e45"
      },
      "outputs": [
        {
          "name": "stdout",
          "output_type": "stream",
          "text": [
            "<class 'pandas.core.frame.DataFrame'>\n",
            "RangeIndex: 1034999 entries, 0 to 1034998\n",
            "Data columns (total 24 columns):\n",
            " #   Column                Non-Null Count    Dtype  \n",
            "---  ------                --------------    -----  \n",
            " 0   id                    1034999 non-null  int64  \n",
            " 1   title                 1034987 non-null  object \n",
            " 2   vote_average          1034999 non-null  float64\n",
            " 3   vote_count            1034999 non-null  int64  \n",
            " 4   status                1034999 non-null  object \n",
            " 5   release_date          903322 non-null   object \n",
            " 6   revenue               1034999 non-null  int64  \n",
            " 7   runtime               1034999 non-null  int64  \n",
            " 8   adult                 1034999 non-null  bool   \n",
            " 9   backdrop_path         287519 non-null   object \n",
            " 10  budget                1034999 non-null  int64  \n",
            " 11  homepage              111939 non-null   object \n",
            " 12  imdb_id               579730 non-null   object \n",
            " 13  original_language     1034999 non-null  object \n",
            " 14  original_title        1034987 non-null  object \n",
            " 15  overview              843934 non-null   object \n",
            " 16  popularity            1034999 non-null  float64\n",
            " 17  poster_path           737924 non-null   object \n",
            " 18  tagline               147785 non-null   object \n",
            " 19  genres                645131 non-null   object \n",
            " 20  production_companies  485799 non-null   object \n",
            " 21  production_countries  604689 non-null   object \n",
            " 22  spoken_languages      617333 non-null   object \n",
            " 23  keywords              294770 non-null   object \n",
            "dtypes: bool(1), float64(2), int64(5), object(16)\n",
            "memory usage: 182.6+ MB\n"
          ]
        }
      ],
      "source": [
        "data.info()"
      ]
    },
    {
      "cell_type": "code",
      "execution_count": 29,
      "metadata": {
        "colab": {
          "base_uri": "https://localhost:8080/",
          "height": 690
        },
        "id": "K-Lk9h8Vi8gH",
        "outputId": "191ed3cc-81c7-4f57-875d-b3f7a2063a6f"
      },
      "outputs": [
        {
          "data": {
            "text/html": [
              "<div>\n",
              "<style scoped>\n",
              "    .dataframe tbody tr th:only-of-type {\n",
              "        vertical-align: middle;\n",
              "    }\n",
              "\n",
              "    .dataframe tbody tr th {\n",
              "        vertical-align: top;\n",
              "    }\n",
              "\n",
              "    .dataframe thead th {\n",
              "        text-align: right;\n",
              "    }\n",
              "</style>\n",
              "<table border=\"1\" class=\"dataframe\">\n",
              "  <thead>\n",
              "    <tr style=\"text-align: right;\">\n",
              "      <th></th>\n",
              "      <th>id</th>\n",
              "      <th>title</th>\n",
              "      <th>vote_average</th>\n",
              "      <th>vote_count</th>\n",
              "      <th>status</th>\n",
              "      <th>release_date</th>\n",
              "      <th>revenue</th>\n",
              "      <th>runtime</th>\n",
              "      <th>adult</th>\n",
              "      <th>backdrop_path</th>\n",
              "      <th>...</th>\n",
              "      <th>original_title</th>\n",
              "      <th>overview</th>\n",
              "      <th>popularity</th>\n",
              "      <th>poster_path</th>\n",
              "      <th>tagline</th>\n",
              "      <th>genres</th>\n",
              "      <th>production_companies</th>\n",
              "      <th>production_countries</th>\n",
              "      <th>spoken_languages</th>\n",
              "      <th>keywords</th>\n",
              "    </tr>\n",
              "  </thead>\n",
              "  <tbody>\n",
              "    <tr>\n",
              "      <th>0</th>\n",
              "      <td>27205</td>\n",
              "      <td>Inception</td>\n",
              "      <td>8.364</td>\n",
              "      <td>34495</td>\n",
              "      <td>Released</td>\n",
              "      <td>7/15/2010</td>\n",
              "      <td>825532764</td>\n",
              "      <td>148</td>\n",
              "      <td>False</td>\n",
              "      <td>/8ZTVqvKDQ8emSGUEMjsS4yHAwrp.jpg</td>\n",
              "      <td>...</td>\n",
              "      <td>Inception</td>\n",
              "      <td>Cobb, a skilled thief who commits corporate es...</td>\n",
              "      <td>83.952</td>\n",
              "      <td>/oYuLEt3zVCKq57qu2F8dT7NIa6f.jpg</td>\n",
              "      <td>Your mind is the scene of the crime.</td>\n",
              "      <td>Action, Science Fiction, Adventure</td>\n",
              "      <td>Legendary Pictures, Syncopy, Warner Bros. Pict...</td>\n",
              "      <td>United Kingdom, United States of America</td>\n",
              "      <td>English, French, Japanese, Swahili</td>\n",
              "      <td>rescue, mission, dream, airplane, paris, franc...</td>\n",
              "    </tr>\n",
              "    <tr>\n",
              "      <th>1</th>\n",
              "      <td>157336</td>\n",
              "      <td>Interstellar</td>\n",
              "      <td>8.417</td>\n",
              "      <td>32571</td>\n",
              "      <td>Released</td>\n",
              "      <td>11/5/2014</td>\n",
              "      <td>701729206</td>\n",
              "      <td>169</td>\n",
              "      <td>False</td>\n",
              "      <td>/pbrkL804c8yAv3zBZR4QPEafpAR.jpg</td>\n",
              "      <td>...</td>\n",
              "      <td>Interstellar</td>\n",
              "      <td>The adventures of a group of explorers who mak...</td>\n",
              "      <td>140.241</td>\n",
              "      <td>/gEU2QniE6E77NI6lCU6MxlNBvIx.jpg</td>\n",
              "      <td>Mankind was born on Earth. It was never meant ...</td>\n",
              "      <td>Adventure, Drama, Science Fiction</td>\n",
              "      <td>Legendary Pictures, Syncopy, Lynda Obst Produc...</td>\n",
              "      <td>United Kingdom, United States of America</td>\n",
              "      <td>English</td>\n",
              "      <td>rescue, future, spacecraft, race against time,...</td>\n",
              "    </tr>\n",
              "    <tr>\n",
              "      <th>2</th>\n",
              "      <td>155</td>\n",
              "      <td>The Dark Knight</td>\n",
              "      <td>8.512</td>\n",
              "      <td>30619</td>\n",
              "      <td>Released</td>\n",
              "      <td>7/16/2008</td>\n",
              "      <td>1004558444</td>\n",
              "      <td>152</td>\n",
              "      <td>False</td>\n",
              "      <td>/nMKdUUepR0i5zn0y1T4CsSB5chy.jpg</td>\n",
              "      <td>...</td>\n",
              "      <td>The Dark Knight</td>\n",
              "      <td>Batman raises the stakes in his war on crime. ...</td>\n",
              "      <td>130.643</td>\n",
              "      <td>/qJ2tW6WMUDux911r6m7haRef0WH.jpg</td>\n",
              "      <td>Welcome to a world without rules.</td>\n",
              "      <td>Drama, Action, Crime, Thriller</td>\n",
              "      <td>DC Comics, Legendary Pictures, Syncopy, Isobel...</td>\n",
              "      <td>United Kingdom, United States of America</td>\n",
              "      <td>English, Mandarin</td>\n",
              "      <td>joker, sadism, chaos, secret identity, crime f...</td>\n",
              "    </tr>\n",
              "    <tr>\n",
              "      <th>3</th>\n",
              "      <td>19995</td>\n",
              "      <td>Avatar</td>\n",
              "      <td>7.573</td>\n",
              "      <td>29815</td>\n",
              "      <td>Released</td>\n",
              "      <td>12/15/2009</td>\n",
              "      <td>2923706026</td>\n",
              "      <td>162</td>\n",
              "      <td>False</td>\n",
              "      <td>/vL5LR6WdxWPjLPFRLe133jXWsh5.jpg</td>\n",
              "      <td>...</td>\n",
              "      <td>Avatar</td>\n",
              "      <td>In the 22nd century, a paraplegic Marine is di...</td>\n",
              "      <td>79.932</td>\n",
              "      <td>/kyeqWdyUXW608qlYkRqosgbbJyK.jpg</td>\n",
              "      <td>Enter the world of Pandora.</td>\n",
              "      <td>Action, Adventure, Fantasy, Science Fiction</td>\n",
              "      <td>Dune Entertainment, Lightstorm Entertainment, ...</td>\n",
              "      <td>United States of America, United Kingdom</td>\n",
              "      <td>English, Spanish</td>\n",
              "      <td>future, society, culture clash, space travel, ...</td>\n",
              "    </tr>\n",
              "    <tr>\n",
              "      <th>4</th>\n",
              "      <td>24428</td>\n",
              "      <td>The Avengers</td>\n",
              "      <td>7.710</td>\n",
              "      <td>29166</td>\n",
              "      <td>Released</td>\n",
              "      <td>4/25/2012</td>\n",
              "      <td>1518815515</td>\n",
              "      <td>143</td>\n",
              "      <td>False</td>\n",
              "      <td>/9BBTo63ANSmhC4e6r62OJFuK2GL.jpg</td>\n",
              "      <td>...</td>\n",
              "      <td>The Avengers</td>\n",
              "      <td>When an unexpected enemy emerges and threatens...</td>\n",
              "      <td>98.082</td>\n",
              "      <td>/RYMX2wcKCBAr24UyPD7xwmjaTn.jpg</td>\n",
              "      <td>Some assembly required.</td>\n",
              "      <td>Science Fiction, Action, Adventure</td>\n",
              "      <td>Marvel Studios</td>\n",
              "      <td>United States of America</td>\n",
              "      <td>English, Hindi, Russian</td>\n",
              "      <td>new york city, superhero, shield, based on com...</td>\n",
              "    </tr>\n",
              "  </tbody>\n",
              "</table>\n",
              "<p>5 rows × 24 columns</p>\n",
              "</div>"
            ],
            "text/plain": [
              "       id            title  vote_average  vote_count    status release_date  \\\n",
              "0   27205        Inception         8.364       34495  Released    7/15/2010   \n",
              "1  157336     Interstellar         8.417       32571  Released    11/5/2014   \n",
              "2     155  The Dark Knight         8.512       30619  Released    7/16/2008   \n",
              "3   19995           Avatar         7.573       29815  Released   12/15/2009   \n",
              "4   24428     The Avengers         7.710       29166  Released    4/25/2012   \n",
              "\n",
              "      revenue  runtime  adult                     backdrop_path  ...  \\\n",
              "0   825532764      148  False  /8ZTVqvKDQ8emSGUEMjsS4yHAwrp.jpg  ...   \n",
              "1   701729206      169  False  /pbrkL804c8yAv3zBZR4QPEafpAR.jpg  ...   \n",
              "2  1004558444      152  False  /nMKdUUepR0i5zn0y1T4CsSB5chy.jpg  ...   \n",
              "3  2923706026      162  False  /vL5LR6WdxWPjLPFRLe133jXWsh5.jpg  ...   \n",
              "4  1518815515      143  False  /9BBTo63ANSmhC4e6r62OJFuK2GL.jpg  ...   \n",
              "\n",
              "    original_title                                           overview  \\\n",
              "0        Inception  Cobb, a skilled thief who commits corporate es...   \n",
              "1     Interstellar  The adventures of a group of explorers who mak...   \n",
              "2  The Dark Knight  Batman raises the stakes in his war on crime. ...   \n",
              "3           Avatar  In the 22nd century, a paraplegic Marine is di...   \n",
              "4     The Avengers  When an unexpected enemy emerges and threatens...   \n",
              "\n",
              "  popularity                       poster_path  \\\n",
              "0     83.952  /oYuLEt3zVCKq57qu2F8dT7NIa6f.jpg   \n",
              "1    140.241  /gEU2QniE6E77NI6lCU6MxlNBvIx.jpg   \n",
              "2    130.643  /qJ2tW6WMUDux911r6m7haRef0WH.jpg   \n",
              "3     79.932  /kyeqWdyUXW608qlYkRqosgbbJyK.jpg   \n",
              "4     98.082   /RYMX2wcKCBAr24UyPD7xwmjaTn.jpg   \n",
              "\n",
              "                                             tagline  \\\n",
              "0               Your mind is the scene of the crime.   \n",
              "1  Mankind was born on Earth. It was never meant ...   \n",
              "2                  Welcome to a world without rules.   \n",
              "3                        Enter the world of Pandora.   \n",
              "4                            Some assembly required.   \n",
              "\n",
              "                                        genres  \\\n",
              "0           Action, Science Fiction, Adventure   \n",
              "1            Adventure, Drama, Science Fiction   \n",
              "2               Drama, Action, Crime, Thriller   \n",
              "3  Action, Adventure, Fantasy, Science Fiction   \n",
              "4           Science Fiction, Action, Adventure   \n",
              "\n",
              "                                production_companies  \\\n",
              "0  Legendary Pictures, Syncopy, Warner Bros. Pict...   \n",
              "1  Legendary Pictures, Syncopy, Lynda Obst Produc...   \n",
              "2  DC Comics, Legendary Pictures, Syncopy, Isobel...   \n",
              "3  Dune Entertainment, Lightstorm Entertainment, ...   \n",
              "4                                     Marvel Studios   \n",
              "\n",
              "                       production_countries  \\\n",
              "0  United Kingdom, United States of America   \n",
              "1  United Kingdom, United States of America   \n",
              "2  United Kingdom, United States of America   \n",
              "3  United States of America, United Kingdom   \n",
              "4                  United States of America   \n",
              "\n",
              "                     spoken_languages  \\\n",
              "0  English, French, Japanese, Swahili   \n",
              "1                             English   \n",
              "2                   English, Mandarin   \n",
              "3                    English, Spanish   \n",
              "4             English, Hindi, Russian   \n",
              "\n",
              "                                            keywords  \n",
              "0  rescue, mission, dream, airplane, paris, franc...  \n",
              "1  rescue, future, spacecraft, race against time,...  \n",
              "2  joker, sadism, chaos, secret identity, crime f...  \n",
              "3  future, society, culture clash, space travel, ...  \n",
              "4  new york city, superhero, shield, based on com...  \n",
              "\n",
              "[5 rows x 24 columns]"
            ]
          },
          "execution_count": 29,
          "metadata": {},
          "output_type": "execute_result"
        }
      ],
      "source": [
        "data.head()"
      ]
    },
    {
      "cell_type": "code",
      "execution_count": 30,
      "metadata": {
        "id": "pDSLI4GbiYFx"
      },
      "outputs": [],
      "source": [
        "data = data.drop(columns=['backdrop_path', 'status', 'homepage', 'imdb_id', 'poster_path', 'tagline', 'overview', 'original_language'])"
      ]
    },
    {
      "cell_type": "code",
      "execution_count": 31,
      "metadata": {
        "colab": {
          "base_uri": "https://localhost:8080/"
        },
        "id": "iAu2g8b7jLh6",
        "outputId": "02729323-75ff-457d-a0fd-9fd4baf75fd5"
      },
      "outputs": [
        {
          "name": "stdout",
          "output_type": "stream",
          "text": [
            "<class 'pandas.core.frame.DataFrame'>\n",
            "RangeIndex: 1034999 entries, 0 to 1034998\n",
            "Data columns (total 16 columns):\n",
            " #   Column                Non-Null Count    Dtype  \n",
            "---  ------                --------------    -----  \n",
            " 0   id                    1034999 non-null  int64  \n",
            " 1   title                 1034987 non-null  object \n",
            " 2   vote_average          1034999 non-null  float64\n",
            " 3   vote_count            1034999 non-null  int64  \n",
            " 4   release_date          903322 non-null   object \n",
            " 5   revenue               1034999 non-null  int64  \n",
            " 6   runtime               1034999 non-null  int64  \n",
            " 7   adult                 1034999 non-null  bool   \n",
            " 8   budget                1034999 non-null  int64  \n",
            " 9   original_title        1034987 non-null  object \n",
            " 10  popularity            1034999 non-null  float64\n",
            " 11  genres                645131 non-null   object \n",
            " 12  production_companies  485799 non-null   object \n",
            " 13  production_countries  604689 non-null   object \n",
            " 14  spoken_languages      617333 non-null   object \n",
            " 15  keywords              294770 non-null   object \n",
            "dtypes: bool(1), float64(2), int64(5), object(8)\n",
            "memory usage: 119.4+ MB\n"
          ]
        }
      ],
      "source": [
        "data.info()"
      ]
    },
    {
      "cell_type": "code",
      "execution_count": 32,
      "metadata": {
        "id": "X5EeDT30jNYh"
      },
      "outputs": [],
      "source": [
        "data = data[data['budget'] > 0]"
      ]
    },
    {
      "cell_type": "code",
      "execution_count": 33,
      "metadata": {
        "id": "JiYCfgRAkiKn"
      },
      "outputs": [],
      "source": [
        "data = data[data['revenue'] > 0]"
      ]
    },
    {
      "cell_type": "code",
      "execution_count": 34,
      "metadata": {
        "id": "TUJLnWR0ktGw"
      },
      "outputs": [],
      "source": [
        "data = data.dropna()"
      ]
    },
    {
      "cell_type": "code",
      "execution_count": 35,
      "metadata": {
        "colab": {
          "base_uri": "https://localhost:8080/"
        },
        "id": "_Jc_k4DUlXw9",
        "outputId": "c4c16bf9-1429-4289-d5ed-5ab26a6652d3"
      },
      "outputs": [
        {
          "name": "stdout",
          "output_type": "stream",
          "text": [
            "<class 'pandas.core.frame.DataFrame'>\n",
            "Index: 9232 entries, 0 to 1033393\n",
            "Data columns (total 16 columns):\n",
            " #   Column                Non-Null Count  Dtype  \n",
            "---  ------                --------------  -----  \n",
            " 0   id                    9232 non-null   int64  \n",
            " 1   title                 9232 non-null   object \n",
            " 2   vote_average          9232 non-null   float64\n",
            " 3   vote_count            9232 non-null   int64  \n",
            " 4   release_date          9232 non-null   object \n",
            " 5   revenue               9232 non-null   int64  \n",
            " 6   runtime               9232 non-null   int64  \n",
            " 7   adult                 9232 non-null   bool   \n",
            " 8   budget                9232 non-null   int64  \n",
            " 9   original_title        9232 non-null   object \n",
            " 10  popularity            9232 non-null   float64\n",
            " 11  genres                9232 non-null   object \n",
            " 12  production_companies  9232 non-null   object \n",
            " 13  production_countries  9232 non-null   object \n",
            " 14  spoken_languages      9232 non-null   object \n",
            " 15  keywords              9232 non-null   object \n",
            "dtypes: bool(1), float64(2), int64(5), object(8)\n",
            "memory usage: 1.1+ MB\n"
          ]
        }
      ],
      "source": [
        "data.info()"
      ]
    },
    {
      "cell_type": "code",
      "execution_count": 36,
      "metadata": {
        "id": "jQyqDo25mV72"
      },
      "outputs": [],
      "source": [
        "from math import sqrt"
      ]
    },
    {
      "cell_type": "code",
      "execution_count": 37,
      "metadata": {
        "colab": {
          "base_uri": "https://localhost:8080/",
          "height": 188
        },
        "id": "vMxDmnwqpPDx",
        "outputId": "ce69adbe-e1ce-45a1-ce31-7f54874ad916"
      },
      "outputs": [
        {
          "data": {
            "text/html": [
              "<div>\n",
              "<style scoped>\n",
              "    .dataframe tbody tr th:only-of-type {\n",
              "        vertical-align: middle;\n",
              "    }\n",
              "\n",
              "    .dataframe tbody tr th {\n",
              "        vertical-align: top;\n",
              "    }\n",
              "\n",
              "    .dataframe thead th {\n",
              "        text-align: right;\n",
              "    }\n",
              "</style>\n",
              "<table border=\"1\" class=\"dataframe\">\n",
              "  <thead>\n",
              "    <tr style=\"text-align: right;\">\n",
              "      <th></th>\n",
              "      <th>id</th>\n",
              "      <th>title</th>\n",
              "      <th>vote_average</th>\n",
              "      <th>vote_count</th>\n",
              "      <th>release_date</th>\n",
              "      <th>revenue</th>\n",
              "      <th>runtime</th>\n",
              "      <th>adult</th>\n",
              "      <th>budget</th>\n",
              "      <th>original_title</th>\n",
              "      <th>popularity</th>\n",
              "      <th>genres</th>\n",
              "      <th>production_companies</th>\n",
              "      <th>production_countries</th>\n",
              "      <th>spoken_languages</th>\n",
              "      <th>keywords</th>\n",
              "    </tr>\n",
              "  </thead>\n",
              "  <tbody>\n",
              "    <tr>\n",
              "      <th>0</th>\n",
              "      <td>27205</td>\n",
              "      <td>Inception</td>\n",
              "      <td>8.364</td>\n",
              "      <td>34495</td>\n",
              "      <td>7/15/2010</td>\n",
              "      <td>825532764</td>\n",
              "      <td>148</td>\n",
              "      <td>False</td>\n",
              "      <td>160000000</td>\n",
              "      <td>Inception</td>\n",
              "      <td>83.952</td>\n",
              "      <td>Action, Science Fiction, Adventure</td>\n",
              "      <td>Legendary Pictures, Syncopy, Warner Bros. Pict...</td>\n",
              "      <td>United Kingdom, United States of America</td>\n",
              "      <td>English, French, Japanese, Swahili</td>\n",
              "      <td>rescue, mission, dream, airplane, paris, franc...</td>\n",
              "    </tr>\n",
              "  </tbody>\n",
              "</table>\n",
              "</div>"
            ],
            "text/plain": [
              "      id      title  vote_average  vote_count release_date    revenue  \\\n",
              "0  27205  Inception         8.364       34495    7/15/2010  825532764   \n",
              "\n",
              "   runtime  adult     budget original_title  popularity  \\\n",
              "0      148  False  160000000      Inception      83.952   \n",
              "\n",
              "                               genres  \\\n",
              "0  Action, Science Fiction, Adventure   \n",
              "\n",
              "                                production_companies  \\\n",
              "0  Legendary Pictures, Syncopy, Warner Bros. Pict...   \n",
              "\n",
              "                       production_countries  \\\n",
              "0  United Kingdom, United States of America   \n",
              "\n",
              "                     spoken_languages  \\\n",
              "0  English, French, Japanese, Swahili   \n",
              "\n",
              "                                            keywords  \n",
              "0  rescue, mission, dream, airplane, paris, franc...  "
            ]
          },
          "execution_count": 37,
          "metadata": {},
          "output_type": "execute_result"
        }
      ],
      "source": [
        "data.head(1)"
      ]
    },
    {
      "cell_type": "code",
      "execution_count": 38,
      "metadata": {
        "id": "1-Eezt11rX_s"
      },
      "outputs": [],
      "source": [
        "datac = data.copy()"
      ]
    },
    {
      "cell_type": "code",
      "execution_count": 39,
      "metadata": {
        "id": "Iz7OU8pxqnns"
      },
      "outputs": [],
      "source": [
        "data.genres = data.genres.str.split(\", \")"
      ]
    },
    {
      "cell_type": "code",
      "execution_count": 40,
      "metadata": {
        "colab": {
          "base_uri": "https://localhost:8080/",
          "height": 660
        },
        "id": "fr5APTB_q5bP",
        "outputId": "76eb3732-04d1-441f-db0a-2225cee36f49"
      },
      "outputs": [
        {
          "data": {
            "text/html": [
              "<div>\n",
              "<style scoped>\n",
              "    .dataframe tbody tr th:only-of-type {\n",
              "        vertical-align: middle;\n",
              "    }\n",
              "\n",
              "    .dataframe tbody tr th {\n",
              "        vertical-align: top;\n",
              "    }\n",
              "\n",
              "    .dataframe thead th {\n",
              "        text-align: right;\n",
              "    }\n",
              "</style>\n",
              "<table border=\"1\" class=\"dataframe\">\n",
              "  <thead>\n",
              "    <tr style=\"text-align: right;\">\n",
              "      <th></th>\n",
              "      <th>id</th>\n",
              "      <th>title</th>\n",
              "      <th>vote_average</th>\n",
              "      <th>vote_count</th>\n",
              "      <th>release_date</th>\n",
              "      <th>revenue</th>\n",
              "      <th>runtime</th>\n",
              "      <th>adult</th>\n",
              "      <th>budget</th>\n",
              "      <th>original_title</th>\n",
              "      <th>popularity</th>\n",
              "      <th>genres</th>\n",
              "      <th>production_companies</th>\n",
              "      <th>production_countries</th>\n",
              "      <th>spoken_languages</th>\n",
              "      <th>keywords</th>\n",
              "    </tr>\n",
              "  </thead>\n",
              "  <tbody>\n",
              "    <tr>\n",
              "      <th>0</th>\n",
              "      <td>27205</td>\n",
              "      <td>Inception</td>\n",
              "      <td>8.364</td>\n",
              "      <td>34495</td>\n",
              "      <td>7/15/2010</td>\n",
              "      <td>825532764</td>\n",
              "      <td>148</td>\n",
              "      <td>False</td>\n",
              "      <td>160000000</td>\n",
              "      <td>Inception</td>\n",
              "      <td>83.952</td>\n",
              "      <td>[Action, Science Fiction, Adventure]</td>\n",
              "      <td>Legendary Pictures, Syncopy, Warner Bros. Pict...</td>\n",
              "      <td>United Kingdom, United States of America</td>\n",
              "      <td>English, French, Japanese, Swahili</td>\n",
              "      <td>rescue, mission, dream, airplane, paris, franc...</td>\n",
              "    </tr>\n",
              "    <tr>\n",
              "      <th>1</th>\n",
              "      <td>157336</td>\n",
              "      <td>Interstellar</td>\n",
              "      <td>8.417</td>\n",
              "      <td>32571</td>\n",
              "      <td>11/5/2014</td>\n",
              "      <td>701729206</td>\n",
              "      <td>169</td>\n",
              "      <td>False</td>\n",
              "      <td>165000000</td>\n",
              "      <td>Interstellar</td>\n",
              "      <td>140.241</td>\n",
              "      <td>[Adventure, Drama, Science Fiction]</td>\n",
              "      <td>Legendary Pictures, Syncopy, Lynda Obst Produc...</td>\n",
              "      <td>United Kingdom, United States of America</td>\n",
              "      <td>English</td>\n",
              "      <td>rescue, future, spacecraft, race against time,...</td>\n",
              "    </tr>\n",
              "    <tr>\n",
              "      <th>2</th>\n",
              "      <td>155</td>\n",
              "      <td>The Dark Knight</td>\n",
              "      <td>8.512</td>\n",
              "      <td>30619</td>\n",
              "      <td>7/16/2008</td>\n",
              "      <td>1004558444</td>\n",
              "      <td>152</td>\n",
              "      <td>False</td>\n",
              "      <td>185000000</td>\n",
              "      <td>The Dark Knight</td>\n",
              "      <td>130.643</td>\n",
              "      <td>[Drama, Action, Crime, Thriller]</td>\n",
              "      <td>DC Comics, Legendary Pictures, Syncopy, Isobel...</td>\n",
              "      <td>United Kingdom, United States of America</td>\n",
              "      <td>English, Mandarin</td>\n",
              "      <td>joker, sadism, chaos, secret identity, crime f...</td>\n",
              "    </tr>\n",
              "    <tr>\n",
              "      <th>3</th>\n",
              "      <td>19995</td>\n",
              "      <td>Avatar</td>\n",
              "      <td>7.573</td>\n",
              "      <td>29815</td>\n",
              "      <td>12/15/2009</td>\n",
              "      <td>2923706026</td>\n",
              "      <td>162</td>\n",
              "      <td>False</td>\n",
              "      <td>237000000</td>\n",
              "      <td>Avatar</td>\n",
              "      <td>79.932</td>\n",
              "      <td>[Action, Adventure, Fantasy, Science Fiction]</td>\n",
              "      <td>Dune Entertainment, Lightstorm Entertainment, ...</td>\n",
              "      <td>United States of America, United Kingdom</td>\n",
              "      <td>English, Spanish</td>\n",
              "      <td>future, society, culture clash, space travel, ...</td>\n",
              "    </tr>\n",
              "    <tr>\n",
              "      <th>4</th>\n",
              "      <td>24428</td>\n",
              "      <td>The Avengers</td>\n",
              "      <td>7.710</td>\n",
              "      <td>29166</td>\n",
              "      <td>4/25/2012</td>\n",
              "      <td>1518815515</td>\n",
              "      <td>143</td>\n",
              "      <td>False</td>\n",
              "      <td>220000000</td>\n",
              "      <td>The Avengers</td>\n",
              "      <td>98.082</td>\n",
              "      <td>[Science Fiction, Action, Adventure]</td>\n",
              "      <td>Marvel Studios</td>\n",
              "      <td>United States of America</td>\n",
              "      <td>English, Hindi, Russian</td>\n",
              "      <td>new york city, superhero, shield, based on com...</td>\n",
              "    </tr>\n",
              "  </tbody>\n",
              "</table>\n",
              "</div>"
            ],
            "text/plain": [
              "       id            title  vote_average  vote_count release_date     revenue  \\\n",
              "0   27205        Inception         8.364       34495    7/15/2010   825532764   \n",
              "1  157336     Interstellar         8.417       32571    11/5/2014   701729206   \n",
              "2     155  The Dark Knight         8.512       30619    7/16/2008  1004558444   \n",
              "3   19995           Avatar         7.573       29815   12/15/2009  2923706026   \n",
              "4   24428     The Avengers         7.710       29166    4/25/2012  1518815515   \n",
              "\n",
              "   runtime  adult     budget   original_title  popularity  \\\n",
              "0      148  False  160000000        Inception      83.952   \n",
              "1      169  False  165000000     Interstellar     140.241   \n",
              "2      152  False  185000000  The Dark Knight     130.643   \n",
              "3      162  False  237000000           Avatar      79.932   \n",
              "4      143  False  220000000     The Avengers      98.082   \n",
              "\n",
              "                                          genres  \\\n",
              "0           [Action, Science Fiction, Adventure]   \n",
              "1            [Adventure, Drama, Science Fiction]   \n",
              "2               [Drama, Action, Crime, Thriller]   \n",
              "3  [Action, Adventure, Fantasy, Science Fiction]   \n",
              "4           [Science Fiction, Action, Adventure]   \n",
              "\n",
              "                                production_companies  \\\n",
              "0  Legendary Pictures, Syncopy, Warner Bros. Pict...   \n",
              "1  Legendary Pictures, Syncopy, Lynda Obst Produc...   \n",
              "2  DC Comics, Legendary Pictures, Syncopy, Isobel...   \n",
              "3  Dune Entertainment, Lightstorm Entertainment, ...   \n",
              "4                                     Marvel Studios   \n",
              "\n",
              "                       production_countries  \\\n",
              "0  United Kingdom, United States of America   \n",
              "1  United Kingdom, United States of America   \n",
              "2  United Kingdom, United States of America   \n",
              "3  United States of America, United Kingdom   \n",
              "4                  United States of America   \n",
              "\n",
              "                     spoken_languages  \\\n",
              "0  English, French, Japanese, Swahili   \n",
              "1                             English   \n",
              "2                   English, Mandarin   \n",
              "3                    English, Spanish   \n",
              "4             English, Hindi, Russian   \n",
              "\n",
              "                                            keywords  \n",
              "0  rescue, mission, dream, airplane, paris, franc...  \n",
              "1  rescue, future, spacecraft, race against time,...  \n",
              "2  joker, sadism, chaos, secret identity, crime f...  \n",
              "3  future, society, culture clash, space travel, ...  \n",
              "4  new york city, superhero, shield, based on com...  "
            ]
          },
          "execution_count": 40,
          "metadata": {},
          "output_type": "execute_result"
        }
      ],
      "source": [
        "data.head()"
      ]
    },
    {
      "cell_type": "code",
      "execution_count": null,
      "metadata": {},
      "outputs": [],
      "source": []
    },
    {
      "cell_type": "code",
      "execution_count": 41,
      "metadata": {
        "id": "pq4xouajvJbX"
      },
      "outputs": [],
      "source": [
        "for index, row in data.iterrows():\n",
        "  for genre in row['genres']:\n",
        "    datac.at[index, genre] = 1\n",
        "datac = datac.fillna(0)"
      ]
    },
    {
      "cell_type": "code",
      "execution_count": 42,
      "metadata": {
        "colab": {
          "base_uri": "https://localhost:8080/",
          "height": 446
        },
        "id": "mNs0FNZGugwF",
        "outputId": "846e689d-1e6f-497a-b981-f98cfcb13b4b"
      },
      "outputs": [
        {
          "data": {
            "text/html": [
              "<div>\n",
              "<style scoped>\n",
              "    .dataframe tbody tr th:only-of-type {\n",
              "        vertical-align: middle;\n",
              "    }\n",
              "\n",
              "    .dataframe tbody tr th {\n",
              "        vertical-align: top;\n",
              "    }\n",
              "\n",
              "    .dataframe thead th {\n",
              "        text-align: right;\n",
              "    }\n",
              "</style>\n",
              "<table border=\"1\" class=\"dataframe\">\n",
              "  <thead>\n",
              "    <tr style=\"text-align: right;\">\n",
              "      <th></th>\n",
              "      <th>id</th>\n",
              "      <th>title</th>\n",
              "      <th>vote_average</th>\n",
              "      <th>vote_count</th>\n",
              "      <th>release_date</th>\n",
              "      <th>revenue</th>\n",
              "      <th>runtime</th>\n",
              "      <th>adult</th>\n",
              "      <th>budget</th>\n",
              "      <th>original_title</th>\n",
              "      <th>...</th>\n",
              "      <th>Western</th>\n",
              "      <th>Mystery</th>\n",
              "      <th>War</th>\n",
              "      <th>Animation</th>\n",
              "      <th>Family</th>\n",
              "      <th>Horror</th>\n",
              "      <th>Music</th>\n",
              "      <th>History</th>\n",
              "      <th>Documentary</th>\n",
              "      <th>TV Movie</th>\n",
              "    </tr>\n",
              "  </thead>\n",
              "  <tbody>\n",
              "    <tr>\n",
              "      <th>1278</th>\n",
              "      <td>10330</td>\n",
              "      <td>Freaky Friday</td>\n",
              "      <td>6.462</td>\n",
              "      <td>3482</td>\n",
              "      <td>8/5/2003</td>\n",
              "      <td>160846332</td>\n",
              "      <td>97</td>\n",
              "      <td>False</td>\n",
              "      <td>26000000</td>\n",
              "      <td>Freaky Friday</td>\n",
              "      <td>...</td>\n",
              "      <td>0.0</td>\n",
              "      <td>0.0</td>\n",
              "      <td>0.0</td>\n",
              "      <td>0.0</td>\n",
              "      <td>1.0</td>\n",
              "      <td>0.0</td>\n",
              "      <td>0.0</td>\n",
              "      <td>0.0</td>\n",
              "      <td>0.0</td>\n",
              "      <td>0.0</td>\n",
              "    </tr>\n",
              "    <tr>\n",
              "      <th>12970</th>\n",
              "      <td>45316</td>\n",
              "      <td>Udaan</td>\n",
              "      <td>7.158</td>\n",
              "      <td>171</td>\n",
              "      <td>6/17/2010</td>\n",
              "      <td>520000</td>\n",
              "      <td>138</td>\n",
              "      <td>False</td>\n",
              "      <td>800000</td>\n",
              "      <td>उड़ान</td>\n",
              "      <td>...</td>\n",
              "      <td>0.0</td>\n",
              "      <td>0.0</td>\n",
              "      <td>0.0</td>\n",
              "      <td>0.0</td>\n",
              "      <td>0.0</td>\n",
              "      <td>0.0</td>\n",
              "      <td>0.0</td>\n",
              "      <td>0.0</td>\n",
              "      <td>0.0</td>\n",
              "      <td>0.0</td>\n",
              "    </tr>\n",
              "    <tr>\n",
              "      <th>4964</th>\n",
              "      <td>1499</td>\n",
              "      <td>Teenage Mutant Ninja Turtles III</td>\n",
              "      <td>5.331</td>\n",
              "      <td>723</td>\n",
              "      <td>3/17/1993</td>\n",
              "      <td>42273609</td>\n",
              "      <td>96</td>\n",
              "      <td>False</td>\n",
              "      <td>21000000</td>\n",
              "      <td>Teenage Mutant Ninja Turtles III</td>\n",
              "      <td>...</td>\n",
              "      <td>0.0</td>\n",
              "      <td>0.0</td>\n",
              "      <td>0.0</td>\n",
              "      <td>0.0</td>\n",
              "      <td>1.0</td>\n",
              "      <td>0.0</td>\n",
              "      <td>0.0</td>\n",
              "      <td>0.0</td>\n",
              "      <td>0.0</td>\n",
              "      <td>0.0</td>\n",
              "    </tr>\n",
              "    <tr>\n",
              "      <th>3959</th>\n",
              "      <td>9879</td>\n",
              "      <td>Striptease</td>\n",
              "      <td>5.545</td>\n",
              "      <td>991</td>\n",
              "      <td>6/28/1996</td>\n",
              "      <td>113309743</td>\n",
              "      <td>115</td>\n",
              "      <td>False</td>\n",
              "      <td>50000000</td>\n",
              "      <td>Striptease</td>\n",
              "      <td>...</td>\n",
              "      <td>0.0</td>\n",
              "      <td>0.0</td>\n",
              "      <td>0.0</td>\n",
              "      <td>0.0</td>\n",
              "      <td>0.0</td>\n",
              "      <td>0.0</td>\n",
              "      <td>0.0</td>\n",
              "      <td>0.0</td>\n",
              "      <td>0.0</td>\n",
              "      <td>0.0</td>\n",
              "    </tr>\n",
              "    <tr>\n",
              "      <th>5101</th>\n",
              "      <td>38579</td>\n",
              "      <td>Marmaduke</td>\n",
              "      <td>5.275</td>\n",
              "      <td>692</td>\n",
              "      <td>6/3/2010</td>\n",
              "      <td>83761844</td>\n",
              "      <td>87</td>\n",
              "      <td>False</td>\n",
              "      <td>50000000</td>\n",
              "      <td>Marmaduke</td>\n",
              "      <td>...</td>\n",
              "      <td>0.0</td>\n",
              "      <td>0.0</td>\n",
              "      <td>0.0</td>\n",
              "      <td>0.0</td>\n",
              "      <td>1.0</td>\n",
              "      <td>0.0</td>\n",
              "      <td>0.0</td>\n",
              "      <td>0.0</td>\n",
              "      <td>0.0</td>\n",
              "      <td>0.0</td>\n",
              "    </tr>\n",
              "  </tbody>\n",
              "</table>\n",
              "<p>5 rows × 35 columns</p>\n",
              "</div>"
            ],
            "text/plain": [
              "          id                             title  vote_average  vote_count  \\\n",
              "1278   10330                     Freaky Friday         6.462        3482   \n",
              "12970  45316                             Udaan         7.158         171   \n",
              "4964    1499  Teenage Mutant Ninja Turtles III         5.331         723   \n",
              "3959    9879                        Striptease         5.545         991   \n",
              "5101   38579                         Marmaduke         5.275         692   \n",
              "\n",
              "      release_date    revenue  runtime  adult    budget  \\\n",
              "1278      8/5/2003  160846332       97  False  26000000   \n",
              "12970    6/17/2010     520000      138  False    800000   \n",
              "4964     3/17/1993   42273609       96  False  21000000   \n",
              "3959     6/28/1996  113309743      115  False  50000000   \n",
              "5101      6/3/2010   83761844       87  False  50000000   \n",
              "\n",
              "                         original_title  ...  Western Mystery  War Animation  \\\n",
              "1278                      Freaky Friday  ...      0.0     0.0  0.0       0.0   \n",
              "12970                              उड़ान  ...      0.0     0.0  0.0       0.0   \n",
              "4964   Teenage Mutant Ninja Turtles III  ...      0.0     0.0  0.0       0.0   \n",
              "3959                         Striptease  ...      0.0     0.0  0.0       0.0   \n",
              "5101                          Marmaduke  ...      0.0     0.0  0.0       0.0   \n",
              "\n",
              "      Family Horror  Music  History  Documentary  TV Movie  \n",
              "1278     1.0    0.0    0.0      0.0          0.0       0.0  \n",
              "12970    0.0    0.0    0.0      0.0          0.0       0.0  \n",
              "4964     1.0    0.0    0.0      0.0          0.0       0.0  \n",
              "3959     0.0    0.0    0.0      0.0          0.0       0.0  \n",
              "5101     1.0    0.0    0.0      0.0          0.0       0.0  \n",
              "\n",
              "[5 rows x 35 columns]"
            ]
          },
          "execution_count": 42,
          "metadata": {},
          "output_type": "execute_result"
        }
      ],
      "source": [
        "datac.sample(5)"
      ]
    },
    {
      "cell_type": "markdown",
      "metadata": {
        "id": "A3tZRid9yDeW"
      },
      "source": []
    },
    {
      "cell_type": "code",
      "execution_count": 84,
      "metadata": {
        "id": "owe0hvIUvRLz"
      },
      "outputs": [],
      "source": [
        "userExample = [\n",
        "    {\n",
        "        'title':'Gnomeo & Juliet',\n",
        "        'rating': 1\n",
        "    },\n",
        "    {\n",
        "        'title':'Downton Abbey',\n",
        "        'rating': 2\n",
        "    },\n",
        "    {\n",
        "        'title':'Little Buddha',\n",
        "        'rating': 5\n",
        "    },\n",
        "    {\n",
        "        'title':'Rambo III',\n",
        "        'rating': 4\n",
        "    },\n",
        "    {\n",
        "        'title':'War of the Worlds',\n",
        "        'rating': 1\n",
        "    }\n",
        "]"
      ]
    },
    {
      "cell_type": "code",
      "execution_count": 85,
      "metadata": {
        "id": "gjTWzi5i1m3o"
      },
      "outputs": [],
      "source": [
        "inputMovie = pd.DataFrame(userExample)"
      ]
    },
    {
      "cell_type": "code",
      "execution_count": 86,
      "metadata": {
        "colab": {
          "base_uri": "https://localhost:8080/"
        },
        "id": "JoAu2IJ0zs5f",
        "outputId": "74b24ac1-45c5-4bd6-bd0c-62dc8f394760"
      },
      "outputs": [
        {
          "name": "stdout",
          "output_type": "stream",
          "text": [
            "pelicular Usuario:\n",
            "                title  rating\n",
            "0    Gnomeo & Juliet       1\n",
            "1      Downton Abbey       2\n",
            "2      Little Buddha       5\n",
            "3          Rambo III       4\n",
            "4  War of the Worlds       1\n"
          ]
        }
      ],
      "source": [
        "print(inputMovie)"
      ]
    },
    {
      "cell_type": "code",
      "execution_count": 87,
      "metadata": {
        "id": "Zw5ue7fezuPP"
      },
      "outputs": [],
      "source": [
        "Id = datac[datac['title'].isin(inputMovie['title'].tolist())]"
      ]
    },
    {
      "cell_type": "code",
      "execution_count": 88,
      "metadata": {
        "id": "XPMZu60o1zdc"
      },
      "outputs": [],
      "source": [
        "inputMovie = pd.merge(Id, inputMovie)"
      ]
    },
    {
      "cell_type": "code",
      "execution_count": 89,
      "metadata": {
        "id": "vEgTCAug7cEj"
      },
      "outputs": [],
      "source": [
        "inputMovie = inputMovie.drop(columns=['vote_average', 'vote_count', 'release_date', 'revenue', 'runtime','budget', 'original_title','production_companies', 'production_countries', 'spoken_languages', 'keywords', 'genres'])"
      ]
    },
    {
      "cell_type": "code",
      "execution_count": 90,
      "metadata": {
        "colab": {
          "base_uri": "https://localhost:8080/"
        },
        "id": "j5yuXrr96RTs",
        "outputId": "eb5eaf67-1c43-4829-883b-7f196a285c9a"
      },
      "outputs": [
        {
          "name": "stdout",
          "output_type": "stream",
          "text": [
            "<class 'pandas.core.frame.DataFrame'>\n",
            "RangeIndex: 5 entries, 0 to 4\n",
            "Data columns (total 24 columns):\n",
            " #   Column           Non-Null Count  Dtype  \n",
            "---  ------           --------------  -----  \n",
            " 0   id               5 non-null      int64  \n",
            " 1   title            5 non-null      object \n",
            " 2   adult            5 non-null      bool   \n",
            " 3   popularity       5 non-null      float64\n",
            " 4   Action           5 non-null      float64\n",
            " 5   Science Fiction  5 non-null      float64\n",
            " 6   Adventure        5 non-null      float64\n",
            " 7   Drama            5 non-null      float64\n",
            " 8   Crime            5 non-null      float64\n",
            " 9   Thriller         5 non-null      float64\n",
            " 10  Fantasy          5 non-null      float64\n",
            " 11  Comedy           5 non-null      float64\n",
            " 12  Romance          5 non-null      float64\n",
            " 13  Western          5 non-null      float64\n",
            " 14  Mystery          5 non-null      float64\n",
            " 15  War              5 non-null      float64\n",
            " 16  Animation        5 non-null      float64\n",
            " 17  Family           5 non-null      float64\n",
            " 18  Horror           5 non-null      float64\n",
            " 19  Music            5 non-null      float64\n",
            " 20  History          5 non-null      float64\n",
            " 21  Documentary      5 non-null      float64\n",
            " 22  TV Movie         5 non-null      float64\n",
            " 23  rating           5 non-null      int64  \n",
            "dtypes: bool(1), float64(20), int64(2), object(1)\n",
            "memory usage: 1.0+ KB\n"
          ]
        }
      ],
      "source": [
        "inputMovie.info()"
      ]
    },
    {
      "cell_type": "code",
      "execution_count": 91,
      "metadata": {
        "colab": {
          "base_uri": "https://localhost:8080/"
        },
        "id": "NI7i-97B-TeK",
        "outputId": "2da3f0df-7b2d-4955-dfa2-b2e3c686b6b3"
      },
      "outputs": [
        {
          "name": "stdout",
          "output_type": "stream",
          "text": [
            "Tabla de generos:\n",
            "    Action  Science Fiction  Adventure  Drama  Crime  Thriller  Fantasy  \\\n",
            "0     0.0              1.0        1.0    0.0    0.0       1.0      0.0   \n",
            "1     1.0              0.0        1.0    0.0    0.0       1.0      0.0   \n",
            "2     0.0              0.0        0.0    0.0    0.0       0.0      0.0   \n",
            "3     0.0              0.0        0.0    1.0    0.0       0.0      0.0   \n",
            "4     0.0              0.0        0.0    1.0    0.0       0.0      0.0   \n",
            "\n",
            "   Comedy  Romance  Western  Mystery  War  Animation  Family  Horror  Music  \\\n",
            "0     0.0      0.0      0.0      0.0  0.0        0.0     0.0     0.0    0.0   \n",
            "1     0.0      0.0      0.0      0.0  1.0        0.0     0.0     0.0    0.0   \n",
            "2     0.0      0.0      0.0      0.0  0.0        1.0     1.0     0.0    0.0   \n",
            "3     0.0      1.0      0.0      0.0  0.0        0.0     0.0     0.0    0.0   \n",
            "4     0.0      0.0      0.0      0.0  0.0        0.0     0.0     0.0    0.0   \n",
            "\n",
            "   History  Documentary  TV Movie  \n",
            "0      0.0          0.0       0.0  \n",
            "1      0.0          0.0       0.0  \n",
            "2      0.0          0.0       0.0  \n",
            "3      1.0          0.0       0.0  \n",
            "4      1.0          0.0       0.0  \n"
          ]
        }
      ],
      "source": [
        "inputMovie = inputMovie.reset_index(drop=True)\n",
        "genreTable = inputMovie.drop(columns=['title','adult','popularity','rating','id'])\n",
        "print(genreTable)"
      ]
    },
    {
      "cell_type": "code",
      "execution_count": 93,
      "metadata": {
        "colab": {
          "base_uri": "https://localhost:8080/"
        },
        "id": "BXvfqPyJ8t91",
        "outputId": "1877a52b-cc74-4fe7-f25c-5fcdaac6ec8b"
      },
      "outputs": [
        {
          "data": {
            "text/plain": [
              "Action             4.0\n",
              "Science Fiction    1.0\n",
              "Adventure          5.0\n",
              "Drama              7.0\n",
              "Crime              0.0\n",
              "Thriller           5.0\n",
              "Fantasy            0.0\n",
              "Comedy             0.0\n",
              "Romance            2.0\n",
              "Western            0.0\n",
              "Mystery            0.0\n",
              "War                4.0\n",
              "Animation          1.0\n",
              "Family             1.0\n",
              "Horror             0.0\n",
              "Music              0.0\n",
              "History            7.0\n",
              "Documentary        0.0\n",
              "TV Movie           0.0\n",
              "dtype: float64"
            ]
          },
          "execution_count": 93,
          "metadata": {},
          "output_type": "execute_result"
        }
      ],
      "source": [
        "profile_user = genreTable.transpose().dot(inputMovie['rating'])\n",
        "profile_user"
      ]
    },
    {
      "cell_type": "code",
      "execution_count": 94,
      "metadata": {
        "colab": {
          "base_uri": "https://localhost:8080/"
        },
        "id": "76RHxrqSBi4i",
        "outputId": "768d1d6d-ef29-4c82-9e23-00f371ddd774"
      },
      "outputs": [
        {
          "data": {
            "text/plain": [
              "(9232, 19)"
            ]
          },
          "execution_count": 94,
          "metadata": {},
          "output_type": "execute_result"
        }
      ],
      "source": [
        "genre = datac.set_index(datac['id'])\n",
        "\n",
        "genre = genre.drop(columns=['id','vote_average', 'vote_count', 'release_date', 'revenue', 'runtime','budget', 'original_title','production_companies', 'production_countries', 'spoken_languages', 'keywords', 'genres','title','adult', 'popularity'])\n",
        "genre.shape"
      ]
    },
    {
      "cell_type": "code",
      "execution_count": 95,
      "metadata": {
        "id": "B8gIsmNUAIf3"
      },
      "outputs": [],
      "source": [
        "recom = ((genre*profile_user).sum(axis=1)) / (profile_user.sum())"
      ]
    },
    {
      "cell_type": "code",
      "execution_count": 96,
      "metadata": {
        "colab": {
          "base_uri": "https://localhost:8080/"
        },
        "id": "WVMiqgZzDXY7",
        "outputId": "fec85341-1717-453c-9b80-9e40cbb33cab"
      },
      "outputs": [
        {
          "data": {
            "text/plain": [
              "id\n",
              "27205     0.270270\n",
              "157336    0.351351\n",
              "155       0.432432\n",
              "19995     0.270270\n",
              "24428     0.270270\n",
              "            ...   \n",
              "679675    0.000000\n",
              "679629    0.324324\n",
              "680936    0.054054\n",
              "683707    0.270270\n",
              "684897    0.216216\n",
              "Length: 9232, dtype: float64"
            ]
          },
          "execution_count": 96,
          "metadata": {},
          "output_type": "execute_result"
        }
      ],
      "source": [
        "recom"
      ]
    },
    {
      "cell_type": "code",
      "execution_count": 97,
      "metadata": {
        "colab": {
          "base_uri": "https://localhost:8080/"
        },
        "id": "PgfRmApuDX27",
        "outputId": "9cc253f7-9bb3-4111-9a84-cb9e90e9818c"
      },
      "outputs": [
        {
          "data": {
            "text/plain": [
              "id\n",
              "27854     0.810811\n",
              "4435      0.783784\n",
              "1966      0.783784\n",
              "9664      0.783784\n",
              "9361      0.783784\n",
              "            ...   \n",
              "113451    0.000000\n",
              "131799    0.000000\n",
              "13909     0.000000\n",
              "69204     0.000000\n",
              "23988     0.000000\n",
              "Length: 9232, dtype: float64"
            ]
          },
          "execution_count": 97,
          "metadata": {},
          "output_type": "execute_result"
        }
      ],
      "source": [
        "recom = recom.sort_values(ascending=False)\n",
        "recom"
      ]
    },
    {
      "cell_type": "code",
      "execution_count": 98,
      "metadata": {
        "colab": {
          "base_uri": "https://localhost:8080/"
        },
        "id": "gkhNaKACD65p",
        "outputId": "ac2684b3-11a9-4d2c-d14e-0cf04fc29074"
      },
      "outputs": [
        {
          "name": "stdout",
          "output_type": "stream",
          "text": [
            "peliculas recomentadas:\n",
            "                                          title\n",
            "1131                   In the Heart of the Sea\n",
            "1161                         Kingdom of Heaven\n",
            "1490                                 Alexander\n",
            "1613                  The Last of the Mohicans\n",
            "1921                          The Great Escape\n",
            "1943                                    Midway\n",
            "3171   The Messenger: The Story of Joan of Arc\n",
            "4853                                 Red Cliff\n",
            "4929                                   Flyboys\n",
            "5904                                   Rob Roy\n",
            "5934                                 Red Tails\n",
            "7377                              Red Cliff II\n",
            "10381                      Saints and Soldiers\n",
            "10702                            The Red Baron\n",
            "13062                  For Whom the Bell Tolls\n",
            "14489                        55 Days at Peking\n",
            "14883                                     1911\n",
            "15054                                    Aśoka\n",
            "17231                               The Breath\n",
            "19963                        Operation Seawolf\n"
          ]
        }
      ],
      "source": [
        "final = datac.loc[datac['id'].isin(recom.head(20).keys())]\n",
        "nfinal = final[['title']]\n",
        "print('peliculas recomentadas:\\n', nfinal)"
      ]
    },
    {
      "cell_type": "code",
      "execution_count": null,
      "metadata": {},
      "outputs": [],
      "source": []
    }
  ],
  "metadata": {
    "accelerator": "TPU",
    "colab": {
      "authorship_tag": "ABX9TyPecfn8Cc7LXleHChjDdjwU",
      "gpuType": "V28",
      "include_colab_link": true,
      "provenance": []
    },
    "kernelspec": {
      "display_name": "Python 3",
      "name": "python3"
    },
    "language_info": {
      "codemirror_mode": {
        "name": "ipython",
        "version": 3
      },
      "file_extension": ".py",
      "mimetype": "text/x-python",
      "name": "python",
      "nbconvert_exporter": "python",
      "pygments_lexer": "ipython3",
      "version": "3.10.12"
    }
  },
  "nbformat": 4,
  "nbformat_minor": 0
}
