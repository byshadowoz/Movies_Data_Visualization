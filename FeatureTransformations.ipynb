{
  "nbformat": 4,
  "nbformat_minor": 0,
  "metadata": {
    "colab": {
      "provenance": [],
      "authorship_tag": "ABX9TyPAWoIZcC754devGRRC8WFk",
      "include_colab_link": true
    },
    "kernelspec": {
      "name": "python3",
      "display_name": "Python 3"
    },
    "language_info": {
      "name": "python"
    }
  },
  "cells": [
    {
      "cell_type": "markdown",
      "metadata": {
        "id": "view-in-github",
        "colab_type": "text"
      },
      "source": [
        "<a href=\"https://colab.research.google.com/github/byshadowoz/Movies_Data_Visualization/blob/main/FeatureTransformations.ipynb\" target=\"_parent\"><img src=\"https://colab.research.google.com/assets/colab-badge.svg\" alt=\"Open In Colab\"/></a>"
      ]
    },
    {
      "cell_type": "code",
      "execution_count": 1,
      "metadata": {
        "id": "3ZMZe-VY7UMA"
      },
      "outputs": [],
      "source": [
        "import pandas as pd\n",
        "import numpy as np\n",
        "import matplotlib.pyplot as plt"
      ]
    },
    {
      "cell_type": "code",
      "source": [
        "df = pd.read_csv('dfpro.csv')"
      ],
      "metadata": {
        "id": "vJ8OjT-R9VwG"
      },
      "execution_count": 2,
      "outputs": []
    },
    {
      "cell_type": "code",
      "source": [
        "df.info()"
      ],
      "metadata": {
        "colab": {
          "base_uri": "https://localhost:8080/"
        },
        "id": "bvFqk0MK9eel",
        "outputId": "082a6669-ca4a-4465-9abb-2fe6cd662854"
      },
      "execution_count": 4,
      "outputs": [
        {
          "output_type": "stream",
          "name": "stdout",
          "text": [
            "<class 'pandas.core.frame.DataFrame'>\n",
            "RangeIndex: 10337 entries, 0 to 10336\n",
            "Data columns (total 19 columns):\n",
            " #   Column                Non-Null Count  Dtype  \n",
            "---  ------                --------------  -----  \n",
            " 0   title                 10337 non-null  object \n",
            " 1   vote_average          10337 non-null  float64\n",
            " 2   vote_count            10337 non-null  int64  \n",
            " 3   status                10337 non-null  object \n",
            " 4   release_date          10337 non-null  object \n",
            " 5   revenue               10337 non-null  int64  \n",
            " 6   runtime               10337 non-null  int64  \n",
            " 7   adult                 10337 non-null  bool   \n",
            " 8   budget                10337 non-null  int64  \n",
            " 9   original_language     10337 non-null  object \n",
            " 10  original_title        10337 non-null  object \n",
            " 11  overview              10337 non-null  object \n",
            " 12  popularity            10337 non-null  float64\n",
            " 13  tagline               10337 non-null  object \n",
            " 14  genres                10337 non-null  object \n",
            " 15  production_companies  10337 non-null  object \n",
            " 16  production_countries  10337 non-null  object \n",
            " 17  spoken_languages      10337 non-null  object \n",
            " 18  keywords              10337 non-null  object \n",
            "dtypes: bool(1), float64(2), int64(4), object(12)\n",
            "memory usage: 1.4+ MB\n"
          ]
        }
      ]
    },
    {
      "cell_type": "code",
      "source": [
        "df['release_date'] = pd.to_datetime(df['release_date'])"
      ],
      "metadata": {
        "id": "r0ghokSu9fMW"
      },
      "execution_count": 5,
      "outputs": []
    },
    {
      "cell_type": "code",
      "source": [
        "df.info()"
      ],
      "metadata": {
        "colab": {
          "base_uri": "https://localhost:8080/"
        },
        "id": "_WrYEXLQ9ptQ",
        "outputId": "3b551c57-9962-407d-d570-c8c908b648db"
      },
      "execution_count": 7,
      "outputs": [
        {
          "output_type": "stream",
          "name": "stdout",
          "text": [
            "<class 'pandas.core.frame.DataFrame'>\n",
            "RangeIndex: 10337 entries, 0 to 10336\n",
            "Data columns (total 19 columns):\n",
            " #   Column                Non-Null Count  Dtype         \n",
            "---  ------                --------------  -----         \n",
            " 0   title                 10337 non-null  object        \n",
            " 1   vote_average          10337 non-null  float64       \n",
            " 2   vote_count            10337 non-null  int64         \n",
            " 3   status                10337 non-null  object        \n",
            " 4   release_date          10337 non-null  datetime64[ns]\n",
            " 5   revenue               10337 non-null  int64         \n",
            " 6   runtime               10337 non-null  int64         \n",
            " 7   adult                 10337 non-null  bool          \n",
            " 8   budget                10337 non-null  int64         \n",
            " 9   original_language     10337 non-null  object        \n",
            " 10  original_title        10337 non-null  object        \n",
            " 11  overview              10337 non-null  object        \n",
            " 12  popularity            10337 non-null  float64       \n",
            " 13  tagline               10337 non-null  object        \n",
            " 14  genres                10337 non-null  object        \n",
            " 15  production_companies  10337 non-null  object        \n",
            " 16  production_countries  10337 non-null  object        \n",
            " 17  spoken_languages      10337 non-null  object        \n",
            " 18  keywords              10337 non-null  object        \n",
            "dtypes: bool(1), datetime64[ns](1), float64(2), int64(4), object(11)\n",
            "memory usage: 1.4+ MB\n"
          ]
        }
      ]
    },
    {
      "cell_type": "code",
      "source": [],
      "metadata": {
        "id": "6sXngfXH9q4P"
      },
      "execution_count": null,
      "outputs": []
    }
  ]
}